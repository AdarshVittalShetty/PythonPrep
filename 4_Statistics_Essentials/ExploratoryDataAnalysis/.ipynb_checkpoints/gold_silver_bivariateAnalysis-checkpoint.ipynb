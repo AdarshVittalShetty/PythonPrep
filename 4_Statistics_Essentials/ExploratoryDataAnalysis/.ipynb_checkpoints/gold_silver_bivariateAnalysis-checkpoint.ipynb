{
 "cells": [
  {
   "cell_type": "code",
   "execution_count": 41,
   "metadata": {},
   "outputs": [
    {
     "data": {
      "text/plain": [
       "0.01"
      ]
     },
     "execution_count": 41,
     "metadata": {},
     "output_type": "execute_result"
    }
   ],
   "source": [
    "import numpy as np\n",
    "import pandas as pd\n",
    "import datetime\n",
    "\n",
    "df = pd.read_csv('EDA_Gold_Silver_prices.csv')\n",
    "df.columns=df.columns.str.strip()\n",
    "#df.Month.notnull().sum()\n",
    "#df.shape\n",
    "df['Month']= pd.to_datetime(df.Month, format='%b-%y', errors='coerce')\n",
    "df['Year']= df.Month.dt.year\n",
    "df1 = df[df.Year==2008]\n",
    "round(df1.SilverPrice.corr(df1.GoldPrice),2)"
   ]
  },
  {
   "cell_type": "code",
   "execution_count": null,
   "metadata": {},
   "outputs": [],
   "source": []
  }
 ],
 "metadata": {
  "kernelspec": {
   "display_name": "Python 3",
   "language": "python",
   "name": "python3"
  },
  "language_info": {
   "codemirror_mode": {
    "name": "ipython",
    "version": 3
   },
   "file_extension": ".py",
   "mimetype": "text/x-python",
   "name": "python",
   "nbconvert_exporter": "python",
   "pygments_lexer": "ipython3",
   "version": "3.7.3"
  }
 },
 "nbformat": 4,
 "nbformat_minor": 2
}
