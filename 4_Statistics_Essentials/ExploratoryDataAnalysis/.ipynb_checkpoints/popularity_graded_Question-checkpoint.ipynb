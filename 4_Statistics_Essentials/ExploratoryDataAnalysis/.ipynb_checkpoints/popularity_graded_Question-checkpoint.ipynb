{
 "cells": [
  {
   "cell_type": "code",
   "execution_count": 1,
   "metadata": {},
   "outputs": [
    {
     "data": {
      "text/plain": [
       "count     39644.000000\n",
       "mean       3395.380184\n",
       "std       11626.950749\n",
       "min           1.000000\n",
       "30%        1000.000000\n",
       "40%        1200.000000\n",
       "50%        1400.000000\n",
       "60%        1800.000000\n",
       "70%        2300.000000\n",
       "80%        3400.000000\n",
       "90%        6200.000000\n",
       "95%       10800.000000\n",
       "99%       31657.000000\n",
       "100%     843300.000000\n",
       "max      843300.000000\n",
       "Name: shares, dtype: float64"
      ]
     },
     "execution_count": 1,
     "metadata": {},
     "output_type": "execute_result"
    }
   ],
   "source": [
    "import numpy as np\n",
    "import pandas as pd\n",
    "\n",
    "df=pd.read_csv('popularity.csv',sep='\\s*,\\s*',engine='python')\n",
    "df.columns = df.columns.str.strip()\n",
    "perc =[.30, .40, .50, .60, .70,.80,.90,.95,.99,1] \n",
    "df.shares.describe(perc)"
   ]
  },
  {
   "cell_type": "code",
   "execution_count": 2,
   "metadata": {},
   "outputs": [
    {
     "name": "stdout",
     "output_type": "stream",
     "text": [
      "Count of shares before removing outliers 39644\n",
      "Count of shares After removing outliers 39130\n",
      "Percent of Outliers removed 1.2965391988699424\n"
     ]
    }
   ],
   "source": [
    "df = pd.read_csv(\"popularity.csv\")\n",
    "df.columns = df.columns.str.strip()\n",
    "\n",
    "elements = np.array(df.shares)\n",
    "\n",
    "#calculating mean\n",
    "mean = np.mean(elements, axis=0)\n",
    "#calculating std deviation\n",
    "sd = np.std(elements, axis=0)\n",
    "#converting shares to list\n",
    "lst = list(df.shares)\n",
    "len1 = len(lst)\n",
    "print(\"Count of shares before removing outliers\",len1)\n",
    "#Filtering list within 95th Percentile\n",
    "final_list = [x for x in lst if (x > (mean - 2 * sd))]\n",
    "final_list = [x for x in final_list if (x < (mean + 2 * sd))]\n",
    "final_list = pd.Series(final_list)\n",
    "len2 = len(final_list)\n",
    "print(\"Count of shares After removing outliers\",len2)\n",
    "\n",
    "#percent of articles beyond 95percentile\n",
    "percent = 100*(len1-len2)/len1\n",
    "\n",
    "print(\"Percent of Outliers removed\",percent)"
   ]
  },
  {
   "cell_type": "code",
   "execution_count": 11,
   "metadata": {},
   "outputs": [
    {
     "name": "stdout",
     "output_type": "stream",
     "text": [
      "0.05259804051721849\n"
     ]
    }
   ],
   "source": [
    "df1 = pd.read_csv('popularity.csv')\n",
    "df1 = df1.rename(columns={' shares' : 'shares'})\n",
    "x = df1['shares'].quantile(.95)\n",
    "df2 = df1.loc[(df1.shares<= x)]\n",
    "print((len(df1.shares)-len(df2.shares))/len(df2.shares))\n",
    "\n"
   ]
  },
  {
   "cell_type": "code",
   "execution_count": null,
   "metadata": {},
   "outputs": [],
   "source": []
  },
  {
   "cell_type": "code",
   "execution_count": null,
   "metadata": {},
   "outputs": [],
   "source": []
  }
 ],
 "metadata": {
  "kernelspec": {
   "display_name": "Python 3",
   "language": "python",
   "name": "python3"
  },
  "language_info": {
   "codemirror_mode": {
    "name": "ipython",
    "version": 3
   },
   "file_extension": ".py",
   "mimetype": "text/x-python",
   "name": "python",
   "nbconvert_exporter": "python",
   "pygments_lexer": "ipython3",
   "version": "3.7.3"
  }
 },
 "nbformat": 4,
 "nbformat_minor": 2
}
