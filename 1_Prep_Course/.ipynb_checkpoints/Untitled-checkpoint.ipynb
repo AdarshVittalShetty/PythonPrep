{
 "cells": [
  {
   "cell_type": "code",
   "execution_count": 26,
   "metadata": {},
   "outputs": [
    {
     "name": "stdout",
     "output_type": "stream",
     "text": [
      "valid\n"
     ]
    }
   ],
   "source": [
    "import re\n",
    "\n",
    "regex = '^([a-zA-Z0-9]+)@([a-z]+)(\\.[a-z]{2,3})+$'\n",
    "#regex = '^\\w+([\\.-]?\\w+)*@\\w+([\\.-]?\\w+)*(\\.\\w{2,3})+$'\n",
    "\n",
    "def checkmail(email):\n",
    "    if(re.search(regex,email)):  \n",
    "        return \"valid\"\n",
    "    else:  \n",
    "        return \"invalid\" \n",
    "if __name__ == '__main__' : \n",
    "    email=\"s@dd.dd\"\n",
    "    print(checkmail(email))"
   ]
  },
  {
   "cell_type": "code",
   "execution_count": 36,
   "metadata": {},
   "outputs": [
    {
     "name": "stdout",
     "output_type": "stream",
     "text": [
      "[1, 2, 9, 4, 5, 36, 7]\n"
     ]
    }
   ],
   "source": [
    "lst=[1,2,3,4,5,6,7]\n",
    "for n,i in enumerate(lst):\n",
    "    if i%3==0 :\n",
    "        lst[n]=i**2\n",
    "\n",
    "print(lst) "
   ]
  },
  {
   "cell_type": "code",
   "execution_count": 50,
   "metadata": {},
   "outputs": [
    {
     "name": "stdout",
     "output_type": "stream",
     "text": [
      "11106\n"
     ]
    }
   ],
   "source": [
    "#n+nn+nnn+nnnn\n",
    "\n",
    "n=9\n",
    "sum_str = str(n)\n",
    "str_n = str(n)\n",
    "sums = n\n",
    "for i in range(1,4):\n",
    "    sum_str = sum_str + str_n \n",
    "    sums = sums + int(sum_str) \n",
    "    \n",
    "print(sums)\n",
    "\n"
   ]
  },
  {
   "cell_type": "code",
   "execution_count": 81,
   "metadata": {},
   "outputs": [
    {
     "name": "stdout",
     "output_type": "stream",
     "text": [
      "Counter({'k': 4, 's': 3, 'd': 3, 'f': 2, 'l': 2})\n",
      "dict_values([3, 3, 2, 4, 2])\n",
      "OrderedDict([('s', 3), ('d', 3), ('f', 2), ('k', 4), ('l', 2)])\n"
     ]
    }
   ],
   "source": [
    "from collections import Counter \n",
    "\n",
    "str1 = \"sssddffkkkklld\"\n",
    "lst = sorted(list(set(str1)))\n",
    "n=2\n",
    "dic = Counter(str1) \n",
    "dic_org = dic\n",
    "\n",
    "for j in str1.split():\n",
    "    if dic[j] > dic[j+1]\n",
    "        \n",
    "        \n",
    "print(dic)\n",
    "print(dic.values())\n",
    "sorted_dict = collections.OrderedDict(dic)\n",
    "print(sorted_dict)\n"
   ]
  },
  {
   "cell_type": "code",
   "execution_count": null,
   "metadata": {},
   "outputs": [],
   "source": [
    "use upgrad;\n",
    "\n",
    "# Write your code below\n",
    "select substring_index(address,' ',1) as num from employee;\n",
    "alter table employee add num char(50) default 0;  \n",
    "update employee set num = (select substring_index(address,' ',1));\n",
    "alter table employee modify num float(8,2) ; \n",
    "alter table employee add avgDist float(8,2) default 0; \n",
    "update employee set avgDist = num where ssn=123456789 ;\n",
    "alter table employee add avgDist2 float(8,2) default (num-avgDist);\n",
    "select CAST((sum(abs(avgDist2))/(count(*)-1)) as decimal (10,2)) from employee;\n",
    "        \n",
    "\n",
    "\n",
    "\n",
    "\n"
   ]
  }
 ],
 "metadata": {
  "kernelspec": {
   "display_name": "Python 3",
   "language": "python",
   "name": "python3"
  },
  "language_info": {
   "codemirror_mode": {
    "name": "ipython",
    "version": 3
   },
   "file_extension": ".py",
   "mimetype": "text/x-python",
   "name": "python",
   "nbconvert_exporter": "python",
   "pygments_lexer": "ipython3",
   "version": "3.7.3"
  }
 },
 "nbformat": 4,
 "nbformat_minor": 2
}
