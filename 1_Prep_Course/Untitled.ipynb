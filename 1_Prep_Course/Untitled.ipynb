{
 "cells": [
  {
   "cell_type": "code",
   "execution_count": 26,
   "metadata": {},
   "outputs": [
    {
     "name": "stdout",
     "output_type": "stream",
     "text": [
      "valid\n"
     ]
    }
   ],
   "source": [
    "import re\n",
    "\n",
    "regex = '^([a-zA-Z0-9]+)@([a-z]+)(\\.[a-z]{2,3})+$'\n",
    "#regex = '^\\w+([\\.-]?\\w+)*@\\w+([\\.-]?\\w+)*(\\.\\w{2,3})+$'\n",
    "\n",
    "def checkmail(email):\n",
    "    if(re.search(regex,email)):  \n",
    "        return \"valid\"\n",
    "    else:  \n",
    "        return \"invalid\" \n",
    "if __name__ == '__main__' : \n",
    "    email=\"s@dd.dd\"\n",
    "    print(checkmail(email))"
   ]
  },
  {
   "cell_type": "code",
   "execution_count": 36,
   "metadata": {},
   "outputs": [
    {
     "name": "stdout",
     "output_type": "stream",
     "text": [
      "[1, 2, 9, 4, 5, 36, 7]\n"
     ]
    }
   ],
   "source": [
    "lst=[1,2,3,4,5,6,7]\n",
    "for n,i in enumerate(lst):\n",
    "    if i%3==0 :\n",
    "        lst[n]=i**2\n",
    "\n",
    "print(lst) "
   ]
  },
  {
   "cell_type": "code",
   "execution_count": 50,
   "metadata": {},
   "outputs": [
    {
     "name": "stdout",
     "output_type": "stream",
     "text": [
      "11106\n"
     ]
    }
   ],
   "source": [
    "#n+nn+nnn+nnnn\n",
    "\n",
    "n=9\n",
    "sum_str = str(n)\n",
    "str_n = str(n)\n",
    "sums = n\n",
    "for i in range(1,4):\n",
    "    sum_str = sum_str + str_n \n",
    "    sums = sums + int(sum_str) \n",
    "    \n",
    "print(sums)\n",
    "\n"
   ]
  },
  {
   "cell_type": "code",
   "execution_count": 50,
   "metadata": {},
   "outputs": [
    {
     "name": "stdout",
     "output_type": "stream",
     "text": [
      "['a', 'd', 'k', 's']\n"
     ]
    }
   ],
   "source": [
    "from collections import Counter \n",
    "\n",
    "str1 = \"sssddffkkkklldaaaac\"\n",
    "\n",
    "n=4\n",
    "\n",
    "lst = sorted(list(set(str1)))\n",
    "dic = Counter(str1) \n",
    "data = []\n",
    "data = lst.copy()\n",
    "\n",
    "for i in range(0,len(data)):\n",
    "    for j in range(i,len(data)):\n",
    "        temp = ''\n",
    "        if dic[data[i]] < dic[data[j]]:\n",
    "            temp = data[i]\n",
    "            data[i]=data[j]\n",
    "            data[j]=temp\n",
    "        elif dic[data[i]] == dic[data[j]]:\n",
    "            if data[i] > data[j]:\n",
    "                temp = data[i]\n",
    "                data[i]=data[j]\n",
    "                data[j]=temp\n",
    "        else:\n",
    "            data[i]=data[i]\n",
    "            data[j]=data[j]\n",
    "\n",
    "data2 = data[:n]\n",
    "print(sorted(data2))\n",
    "            \n",
    "    \n",
    "        \n",
    "        \n",
    "\n",
    "\n"
   ]
  },
  {
   "cell_type": "code",
   "execution_count": null,
   "metadata": {},
   "outputs": [],
   "source": []
  }
 ],
 "metadata": {
  "kernelspec": {
   "display_name": "Python 3",
   "language": "python",
   "name": "python3"
  },
  "language_info": {
   "codemirror_mode": {
    "name": "ipython",
    "version": 3
   },
   "file_extension": ".py",
   "mimetype": "text/x-python",
   "name": "python",
   "nbconvert_exporter": "python",
   "pygments_lexer": "ipython3",
   "version": "3.7.3"
  }
 },
 "nbformat": 4,
 "nbformat_minor": 2
}
