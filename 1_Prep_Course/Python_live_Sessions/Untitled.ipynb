{
 "cells": [
  {
   "cell_type": "code",
   "execution_count": null,
   "metadata": {},
   "outputs": [],
   "source": [
    "list_of_stop_words = [\"in\", \"of\", \"a\", \"and\"]\n",
    "Input: \"a citizen of New York city fought and won in the election\"\n",
    "Output: \"citizen New York city fought won the election\"\n"
   ]
  },
  {
   "cell_type": "code",
   "execution_count": 8,
   "metadata": {},
   "outputs": [
    {
     "name": "stdout",
     "output_type": "stream",
     "text": [
      "['a', 'citizen', 'of', 'New', 'York', 'city', 'fought', 'and', 'won', 'in', 'the', 'election']\n"
     ]
    }
   ],
   "source": [
    "list_of_stop_words = [\"in\", \"of\", \"a\", \"and\"]\n",
    "inputData = \"a citizen of New York city fought and won in the election\"\n",
    "li = inputData.split(\" \")\n",
    "print(li)"
   ]
  },
  {
   "cell_type": "code",
   "execution_count": 12,
   "metadata": {},
   "outputs": [
    {
     "name": "stdout",
     "output_type": "stream",
     "text": [
      "citizen New York city fought won the election\n"
     ]
    }
   ],
   "source": [
    "s=\" \".join(list(filter(lambda x: x not in list_of_stop_words,li)))\n",
    "print(s)"
   ]
  },
  {
   "cell_type": "code",
   "execution_count": 22,
   "metadata": {},
   "outputs": [
    {
     "name": "stdout",
     "output_type": "stream",
     "text": [
      "[3, 7, 11, 15, 19]\n"
     ]
    }
   ],
   "source": [
    "x = [1,3,5,7,9]\n",
    "y = [2,4,6,8,10]\n",
    "z = list(map(lambda a,b:a+b,x,y))\n",
    "print(z)"
   ]
  },
  {
   "cell_type": "code",
   "execution_count": 24,
   "metadata": {},
   "outputs": [
    {
     "name": "stdout",
     "output_type": "stream",
     "text": [
      "['Suresh', 'Kumar', 'Kavita', 'Arjun', 'Vijay']\n"
     ]
    }
   ],
   "source": [
    "chars = ['suresh', 'kumar', 'kavita', 'arjun', 'vijay']\n",
    "li = list(map(lambda x : x[0].upper()+x[1:],chars))\n",
    "print(li)\n"
   ]
  },
  {
   "cell_type": "code",
   "execution_count": 28,
   "metadata": {},
   "outputs": [
    {
     "name": "stdout",
     "output_type": "stream",
     "text": [
      "98\n"
     ]
    }
   ],
   "source": [
    "from functools import reduce\n",
    "li = [34,5,67,98,23]\n",
    "s = reduce(lambda x,y: x if x > y else y,li)\n",
    "print(s)"
   ]
  },
  {
   "cell_type": "code",
   "execution_count": 34,
   "metadata": {},
   "outputs": [
    {
     "name": "stdout",
     "output_type": "stream",
     "text": [
      "{'I': 1, 'L': 18, 'o': 32, 'v': 4, 'e': 19, 'u': 6, 'p': 7, 'G': 8, 'r': 31, 'a': 28, 'd': 11, 'O': 12, 'n': 24, 'l': 27, 'i': 23, 'g': 25, 'P': 26, 't': 29, 'f': 30}\n"
     ]
    }
   ],
   "source": [
    "str = \"ILoveupGradOnlineLearningPlatfrom\"\n",
    "def func(str):\n",
    "    li = []\n",
    "    for i in str:\n",
    "        li.append(i)\n",
    "    dis = {li[i-1]:i for i in range(1,len(li))}\n",
    "    print(dis)\n",
    "    \n",
    "func(str)\n",
    "        \n"
   ]
  },
  {
   "cell_type": "code",
   "execution_count": null,
   "metadata": {},
   "outputs": [],
   "source": []
  }
 ],
 "metadata": {
  "kernelspec": {
   "display_name": "Python 3",
   "language": "python",
   "name": "python3"
  },
  "language_info": {
   "codemirror_mode": {
    "name": "ipython",
    "version": 3
   },
   "file_extension": ".py",
   "mimetype": "text/x-python",
   "name": "python",
   "nbconvert_exporter": "python",
   "pygments_lexer": "ipython3",
   "version": "3.7.3"
  }
 },
 "nbformat": 4,
 "nbformat_minor": 2
}
