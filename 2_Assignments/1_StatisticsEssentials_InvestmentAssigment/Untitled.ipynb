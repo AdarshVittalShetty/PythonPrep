{
 "cells": [
  {
   "cell_type": "code",
   "execution_count": 5,
   "metadata": {},
   "outputs": [
    {
     "name": "stdout",
     "output_type": "stream",
     "text": [
      "Unique companies count in rounds2 table =  66368\n",
      "Unique companies count in Companies table =  66368\n",
      "Total number of rows in companies table =  66368\n"
     ]
    }
   ],
   "source": [
    "import numpy as np\n",
    "import pandas as pd\n",
    "import matplotlib.pyplot as plt\n",
    "import seaborn as sns\n",
    "from textblob import TextBlob\n",
    "\n",
    "# Reading companies data to 'companies' dataframe\n",
    "companies = pd.read_csv('companies.txt',encoding='ISO-8859-1',sep='\\t')\n",
    "\n",
    "# Reading rounds2 data to 'rounds2' dataframe\n",
    "rounds2 = pd.read_csv('rounds2.csv',encoding='ISO-8859-1')\n",
    "\n",
    "#How many unique companies are present in rounds2?\n",
    "#Preparing the data by converting to lower(there might be errors with case sensitivity)\n",
    "rounds2.company_permalink = rounds2.company_permalink.str.lower()\n",
    "#stripping leading or trailing white spaces\n",
    "rounds2.company_permalink = rounds2.company_permalink.str.strip()\n",
    "rounds2.company_permalink = rounds2.company_permalink.str.encode('ISO-8859-1').str.decode('ascii','ignore')\n",
    "companies_count_rounds2 = len(rounds2['company_permalink'].unique())\n",
    "print(\"Unique companies count in rounds2 table = \",companies_count_rounds2)\n",
    "\n",
    "#How many unique companies are present in the companies file?\n",
    "#Preparing the data by converting to lower(there might be errors with case sensitivity)\n",
    "companies.permalink = companies.permalink.str.lower()\n",
    "#stripping leading or trailing white spaces\n",
    "companies.permalink = companies.permalink.str.strip()\n",
    "companies.permalink = companies.permalink.str.encode('ISO-8859-1').str.decode('ascii','ignore')\n",
    "companies_count_companies = len(companies['permalink'].unique())\n",
    "print(\"Unique companies count in Companies table = \",companies_count_companies)\n",
    "\n",
    "#In the companies data frame, which column can be used as the  unique key for each company? Write the name of the column.\n",
    "print(\"Total number of rows in companies table = \",companies.permalink.count())\n",
    "\n"
   ]
  },
  {
   "cell_type": "code",
   "execution_count": 6,
   "metadata": {},
   "outputs": [
    {
     "data": {
      "text/plain": [
       "count                                              114949\n",
       "unique                                             114949\n",
       "top       /funding-round/8c22461cbd4ff37b5cd1d0cba4f193ac\n",
       "freq                                                    1\n",
       "Name: funding_round_permalink, dtype: object"
      ]
     },
     "execution_count": 6,
     "metadata": {},
     "output_type": "execute_result"
    }
   ],
   "source": [
    "rounds2.funding_round_permalink = rounds2.funding_round_permalink.str.encode('ISO-8859-1').str.decode('ascii','ignore')\n",
    "rounds2.funding_round_permalink = rounds2.funding_round_permalink.str.lower()\n",
    "rounds2.funding_round_permalink = rounds2.funding_round_permalink.str.strip()\n",
    "rounds2.funding_round_permalink.describe()\n"
   ]
  },
  {
   "cell_type": "code",
   "execution_count": 15,
   "metadata": {},
   "outputs": [
    {
     "data": {
      "text/plain": [
       "{'/organization/beautytour', '/organization/clublocal', '/organization/splunk'}"
      ]
     },
     "execution_count": 15,
     "metadata": {},
     "output_type": "execute_result"
    }
   ],
   "source": [
    "s1 = set(rounds2['company_permalink'].unique())\n",
    "s2 = set(companies['permalink'].unique()).difference({'/organization/splunk',\n",
    " '/organization/beautytour',\n",
    " '/organization/clublocal',})\n",
    "s3 = s1.difference(s2)\n",
    "s3\n"
   ]
  },
  {
   "cell_type": "code",
   "execution_count": null,
   "metadata": {},
   "outputs": [],
   "source": []
  }
 ],
 "metadata": {
  "kernelspec": {
   "display_name": "Python 3",
   "language": "python",
   "name": "python3"
  },
  "language_info": {
   "codemirror_mode": {
    "name": "ipython",
    "version": 3
   },
   "file_extension": ".py",
   "mimetype": "text/x-python",
   "name": "python",
   "nbconvert_exporter": "python",
   "pygments_lexer": "ipython3",
   "version": "3.7.3"
  }
 },
 "nbformat": 4,
 "nbformat_minor": 2
}
